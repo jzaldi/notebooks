{
  "nbformat": 4,
  "nbformat_minor": 0,
  "metadata": {
    "colab": {
      "name": "FactoresLatentesInterpretacion.ipynb",
      "version": "0.3.2",
      "provenance": [],
      "collapsed_sections": [],
      "toc_visible": true
    },
    "kernelspec": {
      "name": "python3",
      "display_name": "Python 3"
    }
  },
  "cells": [
    {
      "metadata": {
        "id": "mX49CO0uhVAM",
        "colab_type": "code",
        "outputId": "f2ab8d7b-e7d4-4515-ed0e-f10097926916",
        "colab": {
          "base_uri": "https://localhost:8080/",
          "height": 150
        }
      },
      "cell_type": "code",
      "source": [
        "pip install git+git://github.com/maciejkula/spotlight.git"
      ],
      "execution_count": 0,
      "outputs": [
        {
          "output_type": "stream",
          "text": [
            "Collecting git+git://github.com/maciejkula/spotlight.git\n",
            "  Cloning git://github.com/maciejkula/spotlight.git to /tmp/pip-req-build-3i960z1w\n",
            "Requirement already satisfied (use --upgrade to upgrade): spotlight==0.1.5 from git+git://github.com/maciejkula/spotlight.git in /usr/local/lib/python3.6/dist-packages\n",
            "Requirement already satisfied: torch>=0.4.0 in /usr/local/lib/python3.6/dist-packages (from spotlight==0.1.5) (1.0.1.post2)\n",
            "Building wheels for collected packages: spotlight\n",
            "  Building wheel for spotlight (setup.py) ... \u001b[?25ldone\n",
            "\u001b[?25h  Stored in directory: /tmp/pip-ephem-wheel-cache-skgp99or/wheels/5f/eb/0a/20af178044caa54b089e63026090ab13ca70c45c80a18f7253\n",
            "Successfully built spotlight\n"
          ],
          "name": "stdout"
        }
      ]
    },
    {
      "metadata": {
        "id": "HhavF2ODkPn6",
        "colab_type": "code",
        "colab": {}
      },
      "cell_type": "code",
      "source": [
        "import numpy as np\n",
        "import pandas as pd\n",
        "\n",
        "import matplotlib.pyplot as plt\n",
        "import seaborn as sns"
      ],
      "execution_count": 0,
      "outputs": []
    },
    {
      "metadata": {
        "id": "4JLXm5byeRfV",
        "colab_type": "text"
      },
      "cell_type": "markdown",
      "source": [
        "# Interpretación de los factores latentes\n",
        "\n",
        "Los métodos de factorización matricial para sistemas de recomendación intentan representar a *usuarios* y *items* en un mismo espacio vectorial n-dimensional en función de sus interacciones.\n",
        "\n",
        "En este notebook vamos a explorar si podemos extraer información relevante de estas representaciones además de poder hacer recomendaciones.\n",
        "\n",
        "Para ello vamos a utilizar el dataset *Movielens 100K*, que cuenta con 100K ratings de 943 usuarios en 1682 películas"
      ]
    },
    {
      "metadata": {
        "id": "UXc827a3fGMT",
        "colab_type": "text"
      },
      "cell_type": "markdown",
      "source": [
        "## Carga de datos\n",
        "\n",
        "Vamos a obtener los datos de la [página de Grouplens](http://files.grouplens.org/datasets/movielens/ml-100k/).\n",
        "\n",
        "Leemos primero los metadatos de las películas."
      ]
    },
    {
      "metadata": {
        "id": "RDOXw9UoT3HA",
        "colab_type": "code",
        "colab": {}
      },
      "cell_type": "code",
      "source": [
        "movies = pd.read_csv(\n",
        "    \"http://files.grouplens.org/datasets/movielens/ml-100k/u.item\", \n",
        "    sep=\"|\", header = None, encoding = \"ISO-8859-1\"\n",
        ")\n",
        "movies.columns = [\n",
        "    \"item_id\",  \"movie_title\", \"release_date\", \"video_release_date\",\n",
        "    \"IMDb URL\" , \"unknown\", \"Action\", \"Adventure\", \"Animation\",\n",
        "    \"Children\" , \"Comedy\", \"Crime\", \"Documentary\", \"Drama\", \"Fantasy\",\n",
        "    \"Film-Noir\", \"Horror\", \"Musical\", \"Mystery\", \"Romance\", \"Sci-Fi\",\n",
        "    \"Thriller\", \"War\", \"Western\"\n",
        "]\n",
        "movies.head()"
      ],
      "execution_count": 0,
      "outputs": []
    },
    {
      "metadata": {
        "id": "hBfQ2cOcqTgg",
        "colab_type": "text"
      },
      "cell_type": "markdown",
      "source": [
        "Posteriormente leemos los datos de los usuarios."
      ]
    },
    {
      "metadata": {
        "id": "4qBH5UESqRH7",
        "colab_type": "code",
        "colab": {}
      },
      "cell_type": "code",
      "source": [
        "users = pd.read_csv(\n",
        "    \"http://files.grouplens.org/datasets/movielens/ml-100k/u.user\", \n",
        "    sep=\"|\", header = None, encoding = \"ISO-8859-1\"\n",
        ")\n",
        "\n",
        "users.columns = [\n",
        "    \"user_id\", \"age\", \"gender\", \"occupation\", \"zip_code\"\n",
        "]\n",
        "\n",
        "users.head()"
      ],
      "execution_count": 0,
      "outputs": []
    },
    {
      "metadata": {
        "id": "v3xSWY1ufg6b",
        "colab_type": "text"
      },
      "cell_type": "markdown",
      "source": [
        "Por ultimo leemos las interacciones usuario-película con su rating asociado."
      ]
    },
    {
      "metadata": {
        "id": "37QDNL2qSwMb",
        "colab_type": "code",
        "colab": {}
      },
      "cell_type": "code",
      "source": [
        "dataset = pd.read_csv(\"http://files.grouplens.org/datasets/movielens/ml-100k/u.data\", sep = \"\\t\", header = None)\n",
        "dataset.columns = [\"user_id\", \"item_id\", \"rating\", \"timestamp\"]\n",
        "dataset.head()"
      ],
      "execution_count": 0,
      "outputs": []
    },
    {
      "metadata": {
        "id": "zmugQyRhfoMd",
        "colab_type": "text"
      },
      "cell_type": "markdown",
      "source": [
        "Por último recodificamos los ids de items y usuarios, ya que vienen numerados de 1 a N y nos interesa que estén de 0 a N-1."
      ]
    },
    {
      "metadata": {
        "id": "mtVizRMsSyzO",
        "colab_type": "code",
        "colab": {}
      },
      "cell_type": "code",
      "source": [
        "dataset[\"user_id\"] = dataset[\"user_id\"] - 1\n",
        "dataset[\"item_id\"] = dataset[\"item_id\"] - 1\n",
        "movies[\"item_id\"] = movies[\"item_id\"] - 1\n",
        "users[\"user_id\"] = users[\"user_id\"] - 1"
      ],
      "execution_count": 0,
      "outputs": []
    },
    {
      "metadata": {
        "id": "ZZDkVuVEf2k0",
        "colab_type": "text"
      },
      "cell_type": "markdown",
      "source": [
        "## Entrenamiento del modelo de factorización\n",
        "\n",
        "Para el entrenamiento del modelo vamos a utilizar [spotlight](https://maciejkula.github.io/spotlight/index.html)."
      ]
    },
    {
      "metadata": {
        "id": "H2JEdr-FVf9Q",
        "colab_type": "code",
        "colab": {}
      },
      "cell_type": "code",
      "source": [
        "from spotlight.interactions import Interactions\n",
        "from spotlight.factorization.implicit import ImplicitFactorizationModel"
      ],
      "execution_count": 0,
      "outputs": []
    },
    {
      "metadata": {
        "id": "-1OmLuCCgNwR",
        "colab_type": "text"
      },
      "cell_type": "markdown",
      "source": [
        "Construimos el dataset para que se adecúe al formato de entrada de la librería y entrenamos el modelo.\n",
        "\n",
        "Vamos a elegir 5 factores latentes y un número elevado de epoch, ya que para el análisis nos da un poco lo mismo el overfit."
      ]
    },
    {
      "metadata": {
        "id": "2c0YRQmPXH5i",
        "colab_type": "code",
        "colab": {}
      },
      "cell_type": "code",
      "source": [
        "interactions = Interactions(dataset[\"user_id\"].values, dataset[\"item_id\"].values)\n",
        "\n",
        "model = ImplicitFactorizationModel(\n",
        "    loss='pointwise', \n",
        "    embedding_dim=32, \n",
        "    n_iter=50,\n",
        "    random_state=np.random.RandomState(0)\n",
        ")\n",
        "\n",
        "model.fit(interactions, verbose = False)"
      ],
      "execution_count": 0,
      "outputs": []
    },
    {
      "metadata": {
        "id": "mlJmFrFAg2Qr",
        "colab_type": "text"
      },
      "cell_type": "markdown",
      "source": [
        "Extraemos los *embeddings*, que representan los factores latentes de usuarios e items."
      ]
    },
    {
      "metadata": {
        "id": "DE6PnHUPYBff",
        "colab_type": "code",
        "colab": {}
      },
      "cell_type": "code",
      "source": [
        "user_embeddings = model._net.user_embeddings.weight.data.numpy()\n",
        "item_embeddings = model._net.item_embeddings.weight.data.numpy()"
      ],
      "execution_count": 0,
      "outputs": []
    },
    {
      "metadata": {
        "id": "_2FbGDTuhDio",
        "colab_type": "text"
      },
      "cell_type": "markdown",
      "source": [
        "## Exploración de los factores latentes\n",
        "\n",
        "Tenemos los factores $u_{ij}$, la idea es que si elegimos un factor $u_{aj}$ que represente una película típica de, por ejemplo ciencia ficción y otro $u_{bj}$ que represente una película romántica, podemos definir una dirección $\\frac{u_{aj} - u_{bj}}{||u_{aj} - u_{bj}||}$ que represente la tendencia a las películas romanticas o películas de ciencia ficción tanto para usuarios como para items.\n",
        "\n",
        "Para hallar este valor, solo tenemos que proyectar sobre esa dirección los factores $u_{ij}$."
      ]
    },
    {
      "metadata": {
        "id": "Q54DI9IYlX5P",
        "colab_type": "text"
      },
      "cell_type": "markdown",
      "source": [
        "### Dimensión Ciencia Ficción vs Comedia Romántica\n",
        "\n",
        "Como película representativa de ciencia ficción tomamos *Star Trek: Generations*."
      ]
    },
    {
      "metadata": {
        "id": "M6vqb5JIlrrz",
        "colab_type": "code",
        "outputId": "074b3a52-2aed-47f2-ca16-a1508826a3d3",
        "colab": {
          "base_uri": "https://localhost:8080/",
          "height": 176
        }
      },
      "cell_type": "code",
      "source": [
        "movies[movies.item_id == 379]"
      ],
      "execution_count": 0,
      "outputs": [
        {
          "output_type": "execute_result",
          "data": {
            "text/html": [
              "<div>\n",
              "<style scoped>\n",
              "    .dataframe tbody tr th:only-of-type {\n",
              "        vertical-align: middle;\n",
              "    }\n",
              "\n",
              "    .dataframe tbody tr th {\n",
              "        vertical-align: top;\n",
              "    }\n",
              "\n",
              "    .dataframe thead th {\n",
              "        text-align: right;\n",
              "    }\n",
              "</style>\n",
              "<table border=\"1\" class=\"dataframe\">\n",
              "  <thead>\n",
              "    <tr style=\"text-align: right;\">\n",
              "      <th></th>\n",
              "      <th>item_id</th>\n",
              "      <th>movie_title</th>\n",
              "      <th>release_date</th>\n",
              "      <th>video_release_date</th>\n",
              "      <th>IMDb URL</th>\n",
              "      <th>unknown</th>\n",
              "      <th>Action</th>\n",
              "      <th>Adventure</th>\n",
              "      <th>Animation</th>\n",
              "      <th>Children</th>\n",
              "      <th>...</th>\n",
              "      <th>Fantasy</th>\n",
              "      <th>Film-Noir</th>\n",
              "      <th>Horror</th>\n",
              "      <th>Musical</th>\n",
              "      <th>Mystery</th>\n",
              "      <th>Romance</th>\n",
              "      <th>Sci-Fi</th>\n",
              "      <th>Thriller</th>\n",
              "      <th>War</th>\n",
              "      <th>Western</th>\n",
              "    </tr>\n",
              "  </thead>\n",
              "  <tbody>\n",
              "    <tr>\n",
              "      <th>379</th>\n",
              "      <td>379</td>\n",
              "      <td>Star Trek: Generations (1994)</td>\n",
              "      <td>01-Jan-1994</td>\n",
              "      <td>NaN</td>\n",
              "      <td>http://us.imdb.com/M/title-exact?Star%20Trek:%...</td>\n",
              "      <td>0</td>\n",
              "      <td>1</td>\n",
              "      <td>1</td>\n",
              "      <td>0</td>\n",
              "      <td>0</td>\n",
              "      <td>...</td>\n",
              "      <td>0</td>\n",
              "      <td>0</td>\n",
              "      <td>0</td>\n",
              "      <td>0</td>\n",
              "      <td>0</td>\n",
              "      <td>0</td>\n",
              "      <td>1</td>\n",
              "      <td>0</td>\n",
              "      <td>0</td>\n",
              "      <td>0</td>\n",
              "    </tr>\n",
              "  </tbody>\n",
              "</table>\n",
              "<p>1 rows × 24 columns</p>\n",
              "</div>"
            ],
            "text/plain": [
              "     item_id                    movie_title release_date  video_release_date  \\\n",
              "379      379  Star Trek: Generations (1994)  01-Jan-1994                 NaN   \n",
              "\n",
              "                                              IMDb URL  unknown  Action  \\\n",
              "379  http://us.imdb.com/M/title-exact?Star%20Trek:%...        0       1   \n",
              "\n",
              "     Adventure  Animation  Children   ...     Fantasy  Film-Noir  Horror  \\\n",
              "379          1          0         0   ...           0          0       0   \n",
              "\n",
              "     Musical  Mystery  Romance  Sci-Fi  Thriller  War  Western  \n",
              "379        0        0        0       1         0    0        0  \n",
              "\n",
              "[1 rows x 24 columns]"
            ]
          },
          "metadata": {
            "tags": []
          },
          "execution_count": 10
        }
      ]
    },
    {
      "metadata": {
        "id": "vnQq69E3lxvU",
        "colab_type": "text"
      },
      "cell_type": "markdown",
      "source": [
        "Por otro lado, como película representativa de comedia romántica tomamos *La boda de mi mejor amigo*."
      ]
    },
    {
      "metadata": {
        "id": "vOBb09pKlbyz",
        "colab_type": "code",
        "outputId": "fa9cd8f5-238f-491c-9d11-f4a633fe45b3",
        "colab": {
          "base_uri": "https://localhost:8080/",
          "height": 193
        }
      },
      "cell_type": "code",
      "source": [
        "movies[movies.item_id == 254]"
      ],
      "execution_count": 0,
      "outputs": [
        {
          "output_type": "execute_result",
          "data": {
            "text/html": [
              "<div>\n",
              "<style scoped>\n",
              "    .dataframe tbody tr th:only-of-type {\n",
              "        vertical-align: middle;\n",
              "    }\n",
              "\n",
              "    .dataframe tbody tr th {\n",
              "        vertical-align: top;\n",
              "    }\n",
              "\n",
              "    .dataframe thead th {\n",
              "        text-align: right;\n",
              "    }\n",
              "</style>\n",
              "<table border=\"1\" class=\"dataframe\">\n",
              "  <thead>\n",
              "    <tr style=\"text-align: right;\">\n",
              "      <th></th>\n",
              "      <th>item_id</th>\n",
              "      <th>movie_title</th>\n",
              "      <th>release_date</th>\n",
              "      <th>video_release_date</th>\n",
              "      <th>IMDb URL</th>\n",
              "      <th>unknown</th>\n",
              "      <th>Action</th>\n",
              "      <th>Adventure</th>\n",
              "      <th>Animation</th>\n",
              "      <th>Children</th>\n",
              "      <th>...</th>\n",
              "      <th>Fantasy</th>\n",
              "      <th>Film-Noir</th>\n",
              "      <th>Horror</th>\n",
              "      <th>Musical</th>\n",
              "      <th>Mystery</th>\n",
              "      <th>Romance</th>\n",
              "      <th>Sci-Fi</th>\n",
              "      <th>Thriller</th>\n",
              "      <th>War</th>\n",
              "      <th>Western</th>\n",
              "    </tr>\n",
              "  </thead>\n",
              "  <tbody>\n",
              "    <tr>\n",
              "      <th>254</th>\n",
              "      <td>254</td>\n",
              "      <td>My Best Friend's Wedding (1997)</td>\n",
              "      <td>20-Jun-1997</td>\n",
              "      <td>NaN</td>\n",
              "      <td>http://us.imdb.com/M/title-exact?My+Best+Frien...</td>\n",
              "      <td>0</td>\n",
              "      <td>0</td>\n",
              "      <td>0</td>\n",
              "      <td>0</td>\n",
              "      <td>0</td>\n",
              "      <td>...</td>\n",
              "      <td>0</td>\n",
              "      <td>0</td>\n",
              "      <td>0</td>\n",
              "      <td>0</td>\n",
              "      <td>0</td>\n",
              "      <td>1</td>\n",
              "      <td>0</td>\n",
              "      <td>0</td>\n",
              "      <td>0</td>\n",
              "      <td>0</td>\n",
              "    </tr>\n",
              "  </tbody>\n",
              "</table>\n",
              "<p>1 rows × 24 columns</p>\n",
              "</div>"
            ],
            "text/plain": [
              "     item_id                      movie_title release_date  \\\n",
              "254      254  My Best Friend's Wedding (1997)  20-Jun-1997   \n",
              "\n",
              "     video_release_date                                           IMDb URL  \\\n",
              "254                 NaN  http://us.imdb.com/M/title-exact?My+Best+Frien...   \n",
              "\n",
              "     unknown  Action  Adventure  Animation  Children   ...     Fantasy  \\\n",
              "254        0       0          0          0         0   ...           0   \n",
              "\n",
              "     Film-Noir  Horror  Musical  Mystery  Romance  Sci-Fi  Thriller  War  \\\n",
              "254          0       0        0        0        1       0         0    0   \n",
              "\n",
              "     Western  \n",
              "254        0  \n",
              "\n",
              "[1 rows x 24 columns]"
            ]
          },
          "metadata": {
            "tags": []
          },
          "execution_count": 11
        }
      ]
    },
    {
      "metadata": {
        "id": "ThDCiH2LmBbh",
        "colab_type": "text"
      },
      "cell_type": "markdown",
      "source": [
        "Hallamos la dirección y proyectamos los factores latentes de cada película sobre ella para calcular un *score*."
      ]
    },
    {
      "metadata": {
        "id": "wpuasiMPXuEb",
        "colab_type": "code",
        "colab": {}
      },
      "cell_type": "code",
      "source": [
        "u = item_embeddings[379] - item_embeddings[254]\n",
        "u_hat = u / (u**2).sum()**0.5\n",
        "movies[\"score\"] = np.transpose(np.dot(item_embeddings, np.expand_dims(u_hat, 1)))[0]"
      ],
      "execution_count": 0,
      "outputs": []
    },
    {
      "metadata": {
        "id": "cB0coNLzAz1j",
        "colab_type": "text"
      },
      "cell_type": "markdown",
      "source": [
        "Si ordenamos las películas de menor a mayor *score* podemos observar que aquellas con un menor *score* son películas románticas mientras que aquellas con mayor son películas de ciencia ficción o fantasía."
      ]
    },
    {
      "metadata": {
        "id": "O50MCmZ9bAh4",
        "colab_type": "code",
        "outputId": "3420d37b-35f6-4851-f80d-fb8f5da04545",
        "colab": {
          "base_uri": "https://localhost:8080/",
          "height": 396
        }
      },
      "cell_type": "code",
      "source": [
        "movies.sort_values(\"score\").head()"
      ],
      "execution_count": 0,
      "outputs": [
        {
          "output_type": "execute_result",
          "data": {
            "text/html": [
              "<div>\n",
              "<style scoped>\n",
              "    .dataframe tbody tr th:only-of-type {\n",
              "        vertical-align: middle;\n",
              "    }\n",
              "\n",
              "    .dataframe tbody tr th {\n",
              "        vertical-align: top;\n",
              "    }\n",
              "\n",
              "    .dataframe thead th {\n",
              "        text-align: right;\n",
              "    }\n",
              "</style>\n",
              "<table border=\"1\" class=\"dataframe\">\n",
              "  <thead>\n",
              "    <tr style=\"text-align: right;\">\n",
              "      <th></th>\n",
              "      <th>item_id</th>\n",
              "      <th>movie_title</th>\n",
              "      <th>release_date</th>\n",
              "      <th>video_release_date</th>\n",
              "      <th>IMDb URL</th>\n",
              "      <th>unknown</th>\n",
              "      <th>Action</th>\n",
              "      <th>Adventure</th>\n",
              "      <th>Animation</th>\n",
              "      <th>Children</th>\n",
              "      <th>...</th>\n",
              "      <th>Film-Noir</th>\n",
              "      <th>Horror</th>\n",
              "      <th>Musical</th>\n",
              "      <th>Mystery</th>\n",
              "      <th>Romance</th>\n",
              "      <th>Sci-Fi</th>\n",
              "      <th>Thriller</th>\n",
              "      <th>War</th>\n",
              "      <th>Western</th>\n",
              "      <th>score</th>\n",
              "    </tr>\n",
              "  </thead>\n",
              "  <tbody>\n",
              "    <tr>\n",
              "      <th>254</th>\n",
              "      <td>254</td>\n",
              "      <td>My Best Friend's Wedding (1997)</td>\n",
              "      <td>20-Jun-1997</td>\n",
              "      <td>NaN</td>\n",
              "      <td>http://us.imdb.com/M/title-exact?My+Best+Frien...</td>\n",
              "      <td>0</td>\n",
              "      <td>0</td>\n",
              "      <td>0</td>\n",
              "      <td>0</td>\n",
              "      <td>0</td>\n",
              "      <td>...</td>\n",
              "      <td>0</td>\n",
              "      <td>0</td>\n",
              "      <td>0</td>\n",
              "      <td>0</td>\n",
              "      <td>1</td>\n",
              "      <td>0</td>\n",
              "      <td>0</td>\n",
              "      <td>0</td>\n",
              "      <td>0</td>\n",
              "      <td>-8.095102</td>\n",
              "    </tr>\n",
              "    <tr>\n",
              "      <th>274</th>\n",
              "      <td>274</td>\n",
              "      <td>Sense and Sensibility (1995)</td>\n",
              "      <td>01-Jan-1995</td>\n",
              "      <td>NaN</td>\n",
              "      <td>http://us.imdb.com/M/title-exact?Sense%20and%2...</td>\n",
              "      <td>0</td>\n",
              "      <td>0</td>\n",
              "      <td>0</td>\n",
              "      <td>0</td>\n",
              "      <td>0</td>\n",
              "      <td>...</td>\n",
              "      <td>0</td>\n",
              "      <td>0</td>\n",
              "      <td>0</td>\n",
              "      <td>0</td>\n",
              "      <td>1</td>\n",
              "      <td>0</td>\n",
              "      <td>0</td>\n",
              "      <td>0</td>\n",
              "      <td>0</td>\n",
              "      <td>-5.637879</td>\n",
              "    </tr>\n",
              "    <tr>\n",
              "      <th>814</th>\n",
              "      <td>814</td>\n",
              "      <td>One Fine Day (1996)</td>\n",
              "      <td>30-Nov-1996</td>\n",
              "      <td>NaN</td>\n",
              "      <td>http://us.imdb.com/M/title-exact?One%20Fine%20...</td>\n",
              "      <td>0</td>\n",
              "      <td>0</td>\n",
              "      <td>0</td>\n",
              "      <td>0</td>\n",
              "      <td>0</td>\n",
              "      <td>...</td>\n",
              "      <td>0</td>\n",
              "      <td>0</td>\n",
              "      <td>0</td>\n",
              "      <td>0</td>\n",
              "      <td>1</td>\n",
              "      <td>0</td>\n",
              "      <td>0</td>\n",
              "      <td>0</td>\n",
              "      <td>0</td>\n",
              "      <td>-5.299332</td>\n",
              "    </tr>\n",
              "    <tr>\n",
              "      <th>236</th>\n",
              "      <td>236</td>\n",
              "      <td>Jerry Maguire (1996)</td>\n",
              "      <td>13-Dec-1996</td>\n",
              "      <td>NaN</td>\n",
              "      <td>http://us.imdb.com/M/title-exact?Jerry%20Magui...</td>\n",
              "      <td>0</td>\n",
              "      <td>0</td>\n",
              "      <td>0</td>\n",
              "      <td>0</td>\n",
              "      <td>0</td>\n",
              "      <td>...</td>\n",
              "      <td>0</td>\n",
              "      <td>0</td>\n",
              "      <td>0</td>\n",
              "      <td>0</td>\n",
              "      <td>1</td>\n",
              "      <td>0</td>\n",
              "      <td>0</td>\n",
              "      <td>0</td>\n",
              "      <td>0</td>\n",
              "      <td>-4.990129</td>\n",
              "    </tr>\n",
              "    <tr>\n",
              "      <th>1011</th>\n",
              "      <td>1011</td>\n",
              "      <td>Private Parts (1997)</td>\n",
              "      <td>07-Mar-1997</td>\n",
              "      <td>NaN</td>\n",
              "      <td>http://us.imdb.com/M/title-exact?Private%20Par...</td>\n",
              "      <td>0</td>\n",
              "      <td>0</td>\n",
              "      <td>0</td>\n",
              "      <td>0</td>\n",
              "      <td>0</td>\n",
              "      <td>...</td>\n",
              "      <td>0</td>\n",
              "      <td>0</td>\n",
              "      <td>0</td>\n",
              "      <td>0</td>\n",
              "      <td>0</td>\n",
              "      <td>0</td>\n",
              "      <td>0</td>\n",
              "      <td>0</td>\n",
              "      <td>0</td>\n",
              "      <td>-4.892868</td>\n",
              "    </tr>\n",
              "  </tbody>\n",
              "</table>\n",
              "<p>5 rows × 25 columns</p>\n",
              "</div>"
            ],
            "text/plain": [
              "      item_id                      movie_title release_date  \\\n",
              "254       254  My Best Friend's Wedding (1997)  20-Jun-1997   \n",
              "274       274     Sense and Sensibility (1995)  01-Jan-1995   \n",
              "814       814              One Fine Day (1996)  30-Nov-1996   \n",
              "236       236             Jerry Maguire (1996)  13-Dec-1996   \n",
              "1011     1011             Private Parts (1997)  07-Mar-1997   \n",
              "\n",
              "      video_release_date                                           IMDb URL  \\\n",
              "254                  NaN  http://us.imdb.com/M/title-exact?My+Best+Frien...   \n",
              "274                  NaN  http://us.imdb.com/M/title-exact?Sense%20and%2...   \n",
              "814                  NaN  http://us.imdb.com/M/title-exact?One%20Fine%20...   \n",
              "236                  NaN  http://us.imdb.com/M/title-exact?Jerry%20Magui...   \n",
              "1011                 NaN  http://us.imdb.com/M/title-exact?Private%20Par...   \n",
              "\n",
              "      unknown  Action  Adventure  Animation  Children    ...     Film-Noir  \\\n",
              "254         0       0          0          0         0    ...             0   \n",
              "274         0       0          0          0         0    ...             0   \n",
              "814         0       0          0          0         0    ...             0   \n",
              "236         0       0          0          0         0    ...             0   \n",
              "1011        0       0          0          0         0    ...             0   \n",
              "\n",
              "      Horror  Musical  Mystery  Romance  Sci-Fi  Thriller  War  Western  \\\n",
              "254        0        0        0        1       0         0    0        0   \n",
              "274        0        0        0        1       0         0    0        0   \n",
              "814        0        0        0        1       0         0    0        0   \n",
              "236        0        0        0        1       0         0    0        0   \n",
              "1011       0        0        0        0       0         0    0        0   \n",
              "\n",
              "         score  \n",
              "254  -8.095102  \n",
              "274  -5.637879  \n",
              "814  -5.299332  \n",
              "236  -4.990129  \n",
              "1011 -4.892868  \n",
              "\n",
              "[5 rows x 25 columns]"
            ]
          },
          "metadata": {
            "tags": []
          },
          "execution_count": 13
        }
      ]
    },
    {
      "metadata": {
        "id": "kZCOrRbuoydu",
        "colab_type": "code",
        "outputId": "e5286700-efee-4822-97dc-dc196263d808",
        "colab": {
          "base_uri": "https://localhost:8080/",
          "height": 380
        }
      },
      "cell_type": "code",
      "source": [
        "movies.sort_values(\"score\").tail()"
      ],
      "execution_count": 0,
      "outputs": [
        {
          "output_type": "execute_result",
          "data": {
            "text/html": [
              "<div>\n",
              "<style scoped>\n",
              "    .dataframe tbody tr th:only-of-type {\n",
              "        vertical-align: middle;\n",
              "    }\n",
              "\n",
              "    .dataframe tbody tr th {\n",
              "        vertical-align: top;\n",
              "    }\n",
              "\n",
              "    .dataframe thead th {\n",
              "        text-align: right;\n",
              "    }\n",
              "</style>\n",
              "<table border=\"1\" class=\"dataframe\">\n",
              "  <thead>\n",
              "    <tr style=\"text-align: right;\">\n",
              "      <th></th>\n",
              "      <th>item_id</th>\n",
              "      <th>movie_title</th>\n",
              "      <th>release_date</th>\n",
              "      <th>video_release_date</th>\n",
              "      <th>IMDb URL</th>\n",
              "      <th>unknown</th>\n",
              "      <th>Action</th>\n",
              "      <th>Adventure</th>\n",
              "      <th>Animation</th>\n",
              "      <th>Children</th>\n",
              "      <th>...</th>\n",
              "      <th>Film-Noir</th>\n",
              "      <th>Horror</th>\n",
              "      <th>Musical</th>\n",
              "      <th>Mystery</th>\n",
              "      <th>Romance</th>\n",
              "      <th>Sci-Fi</th>\n",
              "      <th>Thriller</th>\n",
              "      <th>War</th>\n",
              "      <th>Western</th>\n",
              "      <th>score</th>\n",
              "    </tr>\n",
              "  </thead>\n",
              "  <tbody>\n",
              "    <tr>\n",
              "      <th>228</th>\n",
              "      <td>228</td>\n",
              "      <td>Star Trek III: The Search for Spock (1984)</td>\n",
              "      <td>01-Jan-1984</td>\n",
              "      <td>NaN</td>\n",
              "      <td>http://us.imdb.com/M/title-exact?Star%20Trek%2...</td>\n",
              "      <td>0</td>\n",
              "      <td>1</td>\n",
              "      <td>1</td>\n",
              "      <td>0</td>\n",
              "      <td>0</td>\n",
              "      <td>...</td>\n",
              "      <td>0</td>\n",
              "      <td>0</td>\n",
              "      <td>0</td>\n",
              "      <td>0</td>\n",
              "      <td>0</td>\n",
              "      <td>1</td>\n",
              "      <td>0</td>\n",
              "      <td>0</td>\n",
              "      <td>0</td>\n",
              "      <td>5.991991</td>\n",
              "    </tr>\n",
              "    <tr>\n",
              "      <th>402</th>\n",
              "      <td>402</td>\n",
              "      <td>Batman (1989)</td>\n",
              "      <td>01-Jan-1989</td>\n",
              "      <td>NaN</td>\n",
              "      <td>http://us.imdb.com/M/title-exact?Batman%20(1989)</td>\n",
              "      <td>0</td>\n",
              "      <td>1</td>\n",
              "      <td>1</td>\n",
              "      <td>0</td>\n",
              "      <td>0</td>\n",
              "      <td>...</td>\n",
              "      <td>0</td>\n",
              "      <td>0</td>\n",
              "      <td>0</td>\n",
              "      <td>0</td>\n",
              "      <td>0</td>\n",
              "      <td>0</td>\n",
              "      <td>0</td>\n",
              "      <td>0</td>\n",
              "      <td>0</td>\n",
              "      <td>6.041560</td>\n",
              "    </tr>\n",
              "    <tr>\n",
              "      <th>664</th>\n",
              "      <td>664</td>\n",
              "      <td>Alien 3 (1992)</td>\n",
              "      <td>01-Jan-1992</td>\n",
              "      <td>NaN</td>\n",
              "      <td>http://us.imdb.com/M/title-exact?Alien%203%20(...</td>\n",
              "      <td>0</td>\n",
              "      <td>1</td>\n",
              "      <td>0</td>\n",
              "      <td>0</td>\n",
              "      <td>0</td>\n",
              "      <td>...</td>\n",
              "      <td>0</td>\n",
              "      <td>1</td>\n",
              "      <td>0</td>\n",
              "      <td>0</td>\n",
              "      <td>0</td>\n",
              "      <td>1</td>\n",
              "      <td>1</td>\n",
              "      <td>0</td>\n",
              "      <td>0</td>\n",
              "      <td>6.254703</td>\n",
              "    </tr>\n",
              "    <tr>\n",
              "      <th>61</th>\n",
              "      <td>61</td>\n",
              "      <td>Stargate (1994)</td>\n",
              "      <td>01-Jan-1994</td>\n",
              "      <td>NaN</td>\n",
              "      <td>http://us.imdb.com/M/title-exact?Stargate%20(1...</td>\n",
              "      <td>0</td>\n",
              "      <td>1</td>\n",
              "      <td>1</td>\n",
              "      <td>0</td>\n",
              "      <td>0</td>\n",
              "      <td>...</td>\n",
              "      <td>0</td>\n",
              "      <td>0</td>\n",
              "      <td>0</td>\n",
              "      <td>0</td>\n",
              "      <td>0</td>\n",
              "      <td>1</td>\n",
              "      <td>0</td>\n",
              "      <td>0</td>\n",
              "      <td>0</td>\n",
              "      <td>6.815407</td>\n",
              "    </tr>\n",
              "    <tr>\n",
              "      <th>379</th>\n",
              "      <td>379</td>\n",
              "      <td>Star Trek: Generations (1994)</td>\n",
              "      <td>01-Jan-1994</td>\n",
              "      <td>NaN</td>\n",
              "      <td>http://us.imdb.com/M/title-exact?Star%20Trek:%...</td>\n",
              "      <td>0</td>\n",
              "      <td>1</td>\n",
              "      <td>1</td>\n",
              "      <td>0</td>\n",
              "      <td>0</td>\n",
              "      <td>...</td>\n",
              "      <td>0</td>\n",
              "      <td>0</td>\n",
              "      <td>0</td>\n",
              "      <td>0</td>\n",
              "      <td>0</td>\n",
              "      <td>1</td>\n",
              "      <td>0</td>\n",
              "      <td>0</td>\n",
              "      <td>0</td>\n",
              "      <td>8.016078</td>\n",
              "    </tr>\n",
              "  </tbody>\n",
              "</table>\n",
              "<p>5 rows × 25 columns</p>\n",
              "</div>"
            ],
            "text/plain": [
              "     item_id                                 movie_title release_date  \\\n",
              "228      228  Star Trek III: The Search for Spock (1984)  01-Jan-1984   \n",
              "402      402                               Batman (1989)  01-Jan-1989   \n",
              "664      664                              Alien 3 (1992)  01-Jan-1992   \n",
              "61        61                             Stargate (1994)  01-Jan-1994   \n",
              "379      379               Star Trek: Generations (1994)  01-Jan-1994   \n",
              "\n",
              "     video_release_date                                           IMDb URL  \\\n",
              "228                 NaN  http://us.imdb.com/M/title-exact?Star%20Trek%2...   \n",
              "402                 NaN   http://us.imdb.com/M/title-exact?Batman%20(1989)   \n",
              "664                 NaN  http://us.imdb.com/M/title-exact?Alien%203%20(...   \n",
              "61                  NaN  http://us.imdb.com/M/title-exact?Stargate%20(1...   \n",
              "379                 NaN  http://us.imdb.com/M/title-exact?Star%20Trek:%...   \n",
              "\n",
              "     unknown  Action  Adventure  Animation  Children    ...     Film-Noir  \\\n",
              "228        0       1          1          0         0    ...             0   \n",
              "402        0       1          1          0         0    ...             0   \n",
              "664        0       1          0          0         0    ...             0   \n",
              "61         0       1          1          0         0    ...             0   \n",
              "379        0       1          1          0         0    ...             0   \n",
              "\n",
              "     Horror  Musical  Mystery  Romance  Sci-Fi  Thriller  War  Western  \\\n",
              "228       0        0        0        0       1         0    0        0   \n",
              "402       0        0        0        0       0         0    0        0   \n",
              "664       1        0        0        0       1         1    0        0   \n",
              "61        0        0        0        0       1         0    0        0   \n",
              "379       0        0        0        0       1         0    0        0   \n",
              "\n",
              "        score  \n",
              "228  5.991991  \n",
              "402  6.041560  \n",
              "664  6.254703  \n",
              "61   6.815407  \n",
              "379  8.016078  \n",
              "\n",
              "[5 rows x 25 columns]"
            ]
          },
          "metadata": {
            "tags": []
          },
          "execution_count": 14
        }
      ]
    },
    {
      "metadata": {
        "id": "R_b5539HCF7t",
        "colab_type": "text"
      },
      "cell_type": "markdown",
      "source": [
        "Vamos a hacer el mismo ejercicio per con los usuarios, proyectando sus factores latentes sobre la dimensión calculada."
      ]
    },
    {
      "metadata": {
        "id": "l8TsJglFq2ts",
        "colab_type": "code",
        "colab": {}
      },
      "cell_type": "code",
      "source": [
        "users[\"score\"] = np.transpose(np.dot(user_embeddings, np.expand_dims(u_hat, 1)))[0]"
      ],
      "execution_count": 0,
      "outputs": []
    },
    {
      "metadata": {
        "id": "kz7GmpoOD8Gl",
        "colab_type": "text"
      },
      "cell_type": "markdown",
      "source": [
        "Si calculamos el score medio por género vemos que las mujeres están más inclinadas a ver películas románticas mientras que los hombres a películas de ciencia ficción.\n",
        "\n",
        "Por otro lado vemos que los ingenieros y programadores tienen un score mayor mientras que las amas de casa tienen el score mínimo."
      ]
    },
    {
      "metadata": {
        "id": "ToAz-M-qruuE",
        "colab_type": "code",
        "outputId": "70a4dde6-00a5-4a09-9321-01a942b37a53",
        "colab": {
          "base_uri": "https://localhost:8080/",
          "height": 371
        }
      },
      "cell_type": "code",
      "source": [
        "fig, (ax_1, ax_2) = plt.subplots(1, 2, figsize = (20, 5))\n",
        "\n",
        "sns.barplot(\n",
        "    x = \"gender\", y = \"score\", \n",
        "    data = users.groupby(\"gender\").agg({\"score\": \"mean\"}).reset_index(),\n",
        "    ax = ax_1\n",
        ")\n",
        "\n",
        "sns.barplot(\n",
        "    y = \"occupation\", x = \"score\", \n",
        "    data = users.groupby(\"occupation\").agg({\"score\": \"mean\"})\\\n",
        "      .reset_index().sort_values('score'),\n",
        "    ax = ax_2\n",
        ")\n",
        "\n",
        "plt.show()"
      ],
      "execution_count": 0,
      "outputs": [
        {
          "output_type": "stream",
          "text": [
            "/usr/local/lib/python3.6/dist-packages/seaborn/categorical.py:1428: FutureWarning: remove_na is deprecated and is a private function. Do not use.\n",
            "  stat_data = remove_na(group_data)\n"
          ],
          "name": "stderr"
        },
        {
          "output_type": "display_data",
          "data": {
            "image/png": "[encoded data removed]",
            "text/plain": [
              "<Figure size 1440x360 with 2 Axes>"
            ]
          },
          "metadata": {
            "tags": []
          }
        }
      ]
    },
    {
      "metadata": {
        "id": "hRqEH-7n9sJI",
        "colab_type": "text"
      },
      "cell_type": "markdown",
      "source": [
        "### Dimensión *películas antiguas*"
      ]
    },
    {
      "metadata": {
        "id": "o_2WI4D99AGA",
        "colab_type": "code",
        "outputId": "21cc3cc0-3a63-4e53-f552-f73960e85b3f",
        "colab": {
          "base_uri": "https://localhost:8080/",
          "height": 70
        }
      },
      "cell_type": "code",
      "source": [
        "movies[\"release_year\"] = movies[\"release_date\"].str.extract(\"(\\d{4})$\").astype(float)"
      ],
      "execution_count": 0,
      "outputs": [
        {
          "output_type": "stream",
          "text": [
            "/usr/local/lib/python3.6/dist-packages/ipykernel_launcher.py:1: FutureWarning: currently extract(expand=None) means expand=False (return Index/Series/DataFrame) but in a future version of pandas this will be changed to expand=True (return DataFrame)\n",
            "  \"\"\"Entry point for launching an IPython kernel.\n"
          ],
          "name": "stderr"
        }
      ]
    },
    {
      "metadata": {
        "id": "e7uQdoCG9y7t",
        "colab_type": "code",
        "outputId": "00332466-60c1-4915-d131-75e3a196a997",
        "colab": {
          "base_uri": "https://localhost:8080/",
          "height": 210
        }
      },
      "cell_type": "code",
      "source": [
        "movies[movies[\"item_id\"] == 674]"
      ],
      "execution_count": 0,
      "outputs": [
        {
          "output_type": "execute_result",
          "data": {
            "text/html": [
              "<div>\n",
              "<style scoped>\n",
              "    .dataframe tbody tr th:only-of-type {\n",
              "        vertical-align: middle;\n",
              "    }\n",
              "\n",
              "    .dataframe tbody tr th {\n",
              "        vertical-align: top;\n",
              "    }\n",
              "\n",
              "    .dataframe thead th {\n",
              "        text-align: right;\n",
              "    }\n",
              "</style>\n",
              "<table border=\"1\" class=\"dataframe\">\n",
              "  <thead>\n",
              "    <tr style=\"text-align: right;\">\n",
              "      <th></th>\n",
              "      <th>item_id</th>\n",
              "      <th>movie_title</th>\n",
              "      <th>release_date</th>\n",
              "      <th>video_release_date</th>\n",
              "      <th>IMDb URL</th>\n",
              "      <th>unknown</th>\n",
              "      <th>Action</th>\n",
              "      <th>Adventure</th>\n",
              "      <th>Animation</th>\n",
              "      <th>Children</th>\n",
              "      <th>...</th>\n",
              "      <th>Horror</th>\n",
              "      <th>Musical</th>\n",
              "      <th>Mystery</th>\n",
              "      <th>Romance</th>\n",
              "      <th>Sci-Fi</th>\n",
              "      <th>Thriller</th>\n",
              "      <th>War</th>\n",
              "      <th>Western</th>\n",
              "      <th>score</th>\n",
              "      <th>release_year</th>\n",
              "    </tr>\n",
              "  </thead>\n",
              "  <tbody>\n",
              "    <tr>\n",
              "      <th>674</th>\n",
              "      <td>674</td>\n",
              "      <td>Nosferatu (Nosferatu, eine Symphonie des Graue...</td>\n",
              "      <td>01-Jan-1922</td>\n",
              "      <td>NaN</td>\n",
              "      <td>http://us.imdb.com/M/title-exact?Nosferatu,%20...</td>\n",
              "      <td>0</td>\n",
              "      <td>0</td>\n",
              "      <td>0</td>\n",
              "      <td>0</td>\n",
              "      <td>0</td>\n",
              "      <td>...</td>\n",
              "      <td>1</td>\n",
              "      <td>0</td>\n",
              "      <td>0</td>\n",
              "      <td>0</td>\n",
              "      <td>0</td>\n",
              "      <td>0</td>\n",
              "      <td>0</td>\n",
              "      <td>0</td>\n",
              "      <td>3.758008</td>\n",
              "      <td>1922.0</td>\n",
              "    </tr>\n",
              "  </tbody>\n",
              "</table>\n",
              "<p>1 rows × 26 columns</p>\n",
              "</div>"
            ],
            "text/plain": [
              "     item_id                                        movie_title release_date  \\\n",
              "674      674  Nosferatu (Nosferatu, eine Symphonie des Graue...  01-Jan-1922   \n",
              "\n",
              "     video_release_date                                           IMDb URL  \\\n",
              "674                 NaN  http://us.imdb.com/M/title-exact?Nosferatu,%20...   \n",
              "\n",
              "     unknown  Action  Adventure  Animation  Children      ...       Horror  \\\n",
              "674        0       0          0          0         0      ...            1   \n",
              "\n",
              "     Musical  Mystery  Romance  Sci-Fi  Thriller  War  Western     score  \\\n",
              "674        0        0        0       0         0    0        0  3.758008   \n",
              "\n",
              "     release_year  \n",
              "674        1922.0  \n",
              "\n",
              "[1 rows x 26 columns]"
            ]
          },
          "metadata": {
            "tags": []
          },
          "execution_count": 18
        }
      ]
    },
    {
      "metadata": {
        "id": "9F1VjV8T9iO7",
        "colab_type": "code",
        "outputId": "52bc2f3a-b9eb-4890-990c-322fc8eca374",
        "colab": {
          "base_uri": "https://localhost:8080/",
          "height": 160
        }
      },
      "cell_type": "code",
      "source": [
        "movies[movies[\"item_id\"] == 884]"
      ],
      "execution_count": 0,
      "outputs": [
        {
          "output_type": "execute_result",
          "data": {
            "text/html": [
              "<div>\n",
              "<style scoped>\n",
              "    .dataframe tbody tr th:only-of-type {\n",
              "        vertical-align: middle;\n",
              "    }\n",
              "\n",
              "    .dataframe tbody tr th {\n",
              "        vertical-align: top;\n",
              "    }\n",
              "\n",
              "    .dataframe thead th {\n",
              "        text-align: right;\n",
              "    }\n",
              "</style>\n",
              "<table border=\"1\" class=\"dataframe\">\n",
              "  <thead>\n",
              "    <tr style=\"text-align: right;\">\n",
              "      <th></th>\n",
              "      <th>item_id</th>\n",
              "      <th>movie_title</th>\n",
              "      <th>release_date</th>\n",
              "      <th>video_release_date</th>\n",
              "      <th>IMDb URL</th>\n",
              "      <th>unknown</th>\n",
              "      <th>Action</th>\n",
              "      <th>Adventure</th>\n",
              "      <th>Animation</th>\n",
              "      <th>Children</th>\n",
              "      <th>...</th>\n",
              "      <th>Horror</th>\n",
              "      <th>Musical</th>\n",
              "      <th>Mystery</th>\n",
              "      <th>Romance</th>\n",
              "      <th>Sci-Fi</th>\n",
              "      <th>Thriller</th>\n",
              "      <th>War</th>\n",
              "      <th>Western</th>\n",
              "      <th>score</th>\n",
              "      <th>release_year</th>\n",
              "    </tr>\n",
              "  </thead>\n",
              "  <tbody>\n",
              "    <tr>\n",
              "      <th>884</th>\n",
              "      <td>884</td>\n",
              "      <td>Phantoms (1998)</td>\n",
              "      <td>01-Jan-1998</td>\n",
              "      <td>NaN</td>\n",
              "      <td>http://us.imdb.com/M/title-exact?Phantoms+(1998)</td>\n",
              "      <td>0</td>\n",
              "      <td>0</td>\n",
              "      <td>0</td>\n",
              "      <td>0</td>\n",
              "      <td>0</td>\n",
              "      <td>...</td>\n",
              "      <td>1</td>\n",
              "      <td>0</td>\n",
              "      <td>0</td>\n",
              "      <td>0</td>\n",
              "      <td>0</td>\n",
              "      <td>0</td>\n",
              "      <td>0</td>\n",
              "      <td>0</td>\n",
              "      <td>0.354297</td>\n",
              "      <td>1998.0</td>\n",
              "    </tr>\n",
              "  </tbody>\n",
              "</table>\n",
              "<p>1 rows × 26 columns</p>\n",
              "</div>"
            ],
            "text/plain": [
              "     item_id      movie_title release_date  video_release_date  \\\n",
              "884      884  Phantoms (1998)  01-Jan-1998                 NaN   \n",
              "\n",
              "                                             IMDb URL  unknown  Action  \\\n",
              "884  http://us.imdb.com/M/title-exact?Phantoms+(1998)        0       0   \n",
              "\n",
              "     Adventure  Animation  Children      ...       Horror  Musical  Mystery  \\\n",
              "884          0          0         0      ...            1        0        0   \n",
              "\n",
              "     Romance  Sci-Fi  Thriller  War  Western     score  release_year  \n",
              "884        0       0         0    0        0  0.354297        1998.0  \n",
              "\n",
              "[1 rows x 26 columns]"
            ]
          },
          "metadata": {
            "tags": []
          },
          "execution_count": 19
        }
      ]
    },
    {
      "metadata": {
        "id": "Mj6XsP-6-TqG",
        "colab_type": "code",
        "colab": {}
      },
      "cell_type": "code",
      "source": [
        "u = item_embeddings[674] - item_embeddings[884]\n",
        "u_hat = u / (u**2).sum()**0.5\n",
        "movies[\"score\"] = np.transpose(np.dot(item_embeddings, np.expand_dims(u_hat, 1)))[0]"
      ],
      "execution_count": 0,
      "outputs": []
    },
    {
      "metadata": {
        "id": "-ajNuYPH-f8B",
        "colab_type": "code",
        "outputId": "a7a98a25-b035-41b1-b8db-9c93d5d92215",
        "colab": {
          "base_uri": "https://localhost:8080/",
          "height": 396
        }
      },
      "cell_type": "code",
      "source": [
        "movies.sort_values(\"score\").head()"
      ],
      "execution_count": 0,
      "outputs": [
        {
          "output_type": "execute_result",
          "data": {
            "text/html": [
              "<div>\n",
              "<style scoped>\n",
              "    .dataframe tbody tr th:only-of-type {\n",
              "        vertical-align: middle;\n",
              "    }\n",
              "\n",
              "    .dataframe tbody tr th {\n",
              "        vertical-align: top;\n",
              "    }\n",
              "\n",
              "    .dataframe thead th {\n",
              "        text-align: right;\n",
              "    }\n",
              "</style>\n",
              "<table border=\"1\" class=\"dataframe\">\n",
              "  <thead>\n",
              "    <tr style=\"text-align: right;\">\n",
              "      <th></th>\n",
              "      <th>item_id</th>\n",
              "      <th>movie_title</th>\n",
              "      <th>release_date</th>\n",
              "      <th>video_release_date</th>\n",
              "      <th>IMDb URL</th>\n",
              "      <th>unknown</th>\n",
              "      <th>Action</th>\n",
              "      <th>Adventure</th>\n",
              "      <th>Animation</th>\n",
              "      <th>Children</th>\n",
              "      <th>...</th>\n",
              "      <th>Horror</th>\n",
              "      <th>Musical</th>\n",
              "      <th>Mystery</th>\n",
              "      <th>Romance</th>\n",
              "      <th>Sci-Fi</th>\n",
              "      <th>Thriller</th>\n",
              "      <th>War</th>\n",
              "      <th>Western</th>\n",
              "      <th>score</th>\n",
              "      <th>release_year</th>\n",
              "    </tr>\n",
              "  </thead>\n",
              "  <tbody>\n",
              "    <tr>\n",
              "      <th>305</th>\n",
              "      <td>305</td>\n",
              "      <td>Mrs. Brown (Her Majesty, Mrs. Brown) (1997)</td>\n",
              "      <td>01-Jan-1997</td>\n",
              "      <td>NaN</td>\n",
              "      <td>http://us.imdb.com/M/title-exact?Her+Majesty%2...</td>\n",
              "      <td>0</td>\n",
              "      <td>0</td>\n",
              "      <td>0</td>\n",
              "      <td>0</td>\n",
              "      <td>0</td>\n",
              "      <td>...</td>\n",
              "      <td>0</td>\n",
              "      <td>0</td>\n",
              "      <td>0</td>\n",
              "      <td>1</td>\n",
              "      <td>0</td>\n",
              "      <td>0</td>\n",
              "      <td>0</td>\n",
              "      <td>0</td>\n",
              "      <td>-5.291117</td>\n",
              "      <td>1997.0</td>\n",
              "    </tr>\n",
              "    <tr>\n",
              "      <th>884</th>\n",
              "      <td>884</td>\n",
              "      <td>Phantoms (1998)</td>\n",
              "      <td>01-Jan-1998</td>\n",
              "      <td>NaN</td>\n",
              "      <td>http://us.imdb.com/M/title-exact?Phantoms+(1998)</td>\n",
              "      <td>0</td>\n",
              "      <td>0</td>\n",
              "      <td>0</td>\n",
              "      <td>0</td>\n",
              "      <td>0</td>\n",
              "      <td>...</td>\n",
              "      <td>1</td>\n",
              "      <td>0</td>\n",
              "      <td>0</td>\n",
              "      <td>0</td>\n",
              "      <td>0</td>\n",
              "      <td>0</td>\n",
              "      <td>0</td>\n",
              "      <td>0</td>\n",
              "      <td>-4.846834</td>\n",
              "      <td>1998.0</td>\n",
              "    </tr>\n",
              "    <tr>\n",
              "      <th>279</th>\n",
              "      <td>279</td>\n",
              "      <td>Up Close and Personal (1996)</td>\n",
              "      <td>01-Mar-1996</td>\n",
              "      <td>NaN</td>\n",
              "      <td>http://us.imdb.com/M/title-exact?Up%20Close%20...</td>\n",
              "      <td>0</td>\n",
              "      <td>0</td>\n",
              "      <td>0</td>\n",
              "      <td>0</td>\n",
              "      <td>0</td>\n",
              "      <td>...</td>\n",
              "      <td>0</td>\n",
              "      <td>0</td>\n",
              "      <td>0</td>\n",
              "      <td>1</td>\n",
              "      <td>0</td>\n",
              "      <td>0</td>\n",
              "      <td>0</td>\n",
              "      <td>0</td>\n",
              "      <td>-4.591436</td>\n",
              "      <td>1996.0</td>\n",
              "    </tr>\n",
              "    <tr>\n",
              "      <th>250</th>\n",
              "      <td>250</td>\n",
              "      <td>Shall We Dance? (1996)</td>\n",
              "      <td>11-Jul-1997</td>\n",
              "      <td>NaN</td>\n",
              "      <td>http://us.imdb.com/M/title-exact?Shall%20we%20...</td>\n",
              "      <td>0</td>\n",
              "      <td>0</td>\n",
              "      <td>0</td>\n",
              "      <td>0</td>\n",
              "      <td>0</td>\n",
              "      <td>...</td>\n",
              "      <td>0</td>\n",
              "      <td>0</td>\n",
              "      <td>0</td>\n",
              "      <td>0</td>\n",
              "      <td>0</td>\n",
              "      <td>0</td>\n",
              "      <td>0</td>\n",
              "      <td>0</td>\n",
              "      <td>-4.537306</td>\n",
              "      <td>1997.0</td>\n",
              "    </tr>\n",
              "    <tr>\n",
              "      <th>534</th>\n",
              "      <td>534</td>\n",
              "      <td>Addicted to Love (1997)</td>\n",
              "      <td>23-May-1997</td>\n",
              "      <td>NaN</td>\n",
              "      <td>http://us.imdb.com/M/title-exact?Addicted%20to...</td>\n",
              "      <td>0</td>\n",
              "      <td>0</td>\n",
              "      <td>0</td>\n",
              "      <td>0</td>\n",
              "      <td>0</td>\n",
              "      <td>...</td>\n",
              "      <td>0</td>\n",
              "      <td>0</td>\n",
              "      <td>0</td>\n",
              "      <td>1</td>\n",
              "      <td>0</td>\n",
              "      <td>0</td>\n",
              "      <td>0</td>\n",
              "      <td>0</td>\n",
              "      <td>-4.499990</td>\n",
              "      <td>1997.0</td>\n",
              "    </tr>\n",
              "  </tbody>\n",
              "</table>\n",
              "<p>5 rows × 26 columns</p>\n",
              "</div>"
            ],
            "text/plain": [
              "     item_id                                  movie_title release_date  \\\n",
              "305      305  Mrs. Brown (Her Majesty, Mrs. Brown) (1997)  01-Jan-1997   \n",
              "884      884                              Phantoms (1998)  01-Jan-1998   \n",
              "279      279                 Up Close and Personal (1996)  01-Mar-1996   \n",
              "250      250                       Shall We Dance? (1996)  11-Jul-1997   \n",
              "534      534                      Addicted to Love (1997)  23-May-1997   \n",
              "\n",
              "     video_release_date                                           IMDb URL  \\\n",
              "305                 NaN  http://us.imdb.com/M/title-exact?Her+Majesty%2...   \n",
              "884                 NaN   http://us.imdb.com/M/title-exact?Phantoms+(1998)   \n",
              "279                 NaN  http://us.imdb.com/M/title-exact?Up%20Close%20...   \n",
              "250                 NaN  http://us.imdb.com/M/title-exact?Shall%20we%20...   \n",
              "534                 NaN  http://us.imdb.com/M/title-exact?Addicted%20to...   \n",
              "\n",
              "     unknown  Action  Adventure  Animation  Children      ...       Horror  \\\n",
              "305        0       0          0          0         0      ...            0   \n",
              "884        0       0          0          0         0      ...            1   \n",
              "279        0       0          0          0         0      ...            0   \n",
              "250        0       0          0          0         0      ...            0   \n",
              "534        0       0          0          0         0      ...            0   \n",
              "\n",
              "     Musical  Mystery  Romance  Sci-Fi  Thriller  War  Western     score  \\\n",
              "305        0        0        1       0         0    0        0 -5.291117   \n",
              "884        0        0        0       0         0    0        0 -4.846834   \n",
              "279        0        0        1       0         0    0        0 -4.591436   \n",
              "250        0        0        0       0         0    0        0 -4.537306   \n",
              "534        0        0        1       0         0    0        0 -4.499990   \n",
              "\n",
              "     release_year  \n",
              "305        1997.0  \n",
              "884        1998.0  \n",
              "279        1996.0  \n",
              "250        1997.0  \n",
              "534        1997.0  \n",
              "\n",
              "[5 rows x 26 columns]"
            ]
          },
          "metadata": {
            "tags": []
          },
          "execution_count": 21
        }
      ]
    },
    {
      "metadata": {
        "id": "N8MSqXJM-iOw",
        "colab_type": "code",
        "outputId": "1524b07a-4f58-4f4a-9be8-3c12cadb28b9",
        "colab": {
          "base_uri": "https://localhost:8080/",
          "height": 446
        }
      },
      "cell_type": "code",
      "source": [
        "movies.sort_values(\"score\").tail()"
      ],
      "execution_count": 0,
      "outputs": [
        {
          "output_type": "execute_result",
          "data": {
            "text/html": [
              "<div>\n",
              "<style scoped>\n",
              "    .dataframe tbody tr th:only-of-type {\n",
              "        vertical-align: middle;\n",
              "    }\n",
              "\n",
              "    .dataframe tbody tr th {\n",
              "        vertical-align: top;\n",
              "    }\n",
              "\n",
              "    .dataframe thead th {\n",
              "        text-align: right;\n",
              "    }\n",
              "</style>\n",
              "<table border=\"1\" class=\"dataframe\">\n",
              "  <thead>\n",
              "    <tr style=\"text-align: right;\">\n",
              "      <th></th>\n",
              "      <th>item_id</th>\n",
              "      <th>movie_title</th>\n",
              "      <th>release_date</th>\n",
              "      <th>video_release_date</th>\n",
              "      <th>IMDb URL</th>\n",
              "      <th>unknown</th>\n",
              "      <th>Action</th>\n",
              "      <th>Adventure</th>\n",
              "      <th>Animation</th>\n",
              "      <th>Children</th>\n",
              "      <th>...</th>\n",
              "      <th>Horror</th>\n",
              "      <th>Musical</th>\n",
              "      <th>Mystery</th>\n",
              "      <th>Romance</th>\n",
              "      <th>Sci-Fi</th>\n",
              "      <th>Thriller</th>\n",
              "      <th>War</th>\n",
              "      <th>Western</th>\n",
              "      <th>score</th>\n",
              "      <th>release_year</th>\n",
              "    </tr>\n",
              "  </thead>\n",
              "  <tbody>\n",
              "    <tr>\n",
              "      <th>435</th>\n",
              "      <td>435</td>\n",
              "      <td>American Werewolf in London, An (1981)</td>\n",
              "      <td>01-Jan-1981</td>\n",
              "      <td>NaN</td>\n",
              "      <td>http://us.imdb.com/M/title-exact?American%20We...</td>\n",
              "      <td>0</td>\n",
              "      <td>0</td>\n",
              "      <td>0</td>\n",
              "      <td>0</td>\n",
              "      <td>0</td>\n",
              "      <td>...</td>\n",
              "      <td>1</td>\n",
              "      <td>0</td>\n",
              "      <td>0</td>\n",
              "      <td>0</td>\n",
              "      <td>0</td>\n",
              "      <td>0</td>\n",
              "      <td>0</td>\n",
              "      <td>0</td>\n",
              "      <td>6.073152</td>\n",
              "      <td>1981.0</td>\n",
              "    </tr>\n",
              "    <tr>\n",
              "      <th>431</th>\n",
              "      <td>431</td>\n",
              "      <td>Fantasia (1940)</td>\n",
              "      <td>01-Jan-1940</td>\n",
              "      <td>NaN</td>\n",
              "      <td>http://us.imdb.com/M/title-exact?Fantasia%20(1...</td>\n",
              "      <td>0</td>\n",
              "      <td>0</td>\n",
              "      <td>0</td>\n",
              "      <td>1</td>\n",
              "      <td>1</td>\n",
              "      <td>...</td>\n",
              "      <td>0</td>\n",
              "      <td>1</td>\n",
              "      <td>0</td>\n",
              "      <td>0</td>\n",
              "      <td>0</td>\n",
              "      <td>0</td>\n",
              "      <td>0</td>\n",
              "      <td>0</td>\n",
              "      <td>6.151361</td>\n",
              "      <td>1940.0</td>\n",
              "    </tr>\n",
              "    <tr>\n",
              "      <th>495</th>\n",
              "      <td>495</td>\n",
              "      <td>It's a Wonderful Life (1946)</td>\n",
              "      <td>01-Jan-1946</td>\n",
              "      <td>NaN</td>\n",
              "      <td>http://us.imdb.com/M/title-exact?It's%20a%20Wo...</td>\n",
              "      <td>0</td>\n",
              "      <td>0</td>\n",
              "      <td>0</td>\n",
              "      <td>0</td>\n",
              "      <td>0</td>\n",
              "      <td>...</td>\n",
              "      <td>0</td>\n",
              "      <td>0</td>\n",
              "      <td>0</td>\n",
              "      <td>0</td>\n",
              "      <td>0</td>\n",
              "      <td>0</td>\n",
              "      <td>0</td>\n",
              "      <td>0</td>\n",
              "      <td>6.235801</td>\n",
              "      <td>1946.0</td>\n",
              "    </tr>\n",
              "    <tr>\n",
              "      <th>442</th>\n",
              "      <td>442</td>\n",
              "      <td>Birds, The (1963)</td>\n",
              "      <td>01-Jan-1963</td>\n",
              "      <td>NaN</td>\n",
              "      <td>http://us.imdb.com/M/title-exact?Birds,%20The%...</td>\n",
              "      <td>0</td>\n",
              "      <td>0</td>\n",
              "      <td>0</td>\n",
              "      <td>0</td>\n",
              "      <td>0</td>\n",
              "      <td>...</td>\n",
              "      <td>1</td>\n",
              "      <td>0</td>\n",
              "      <td>0</td>\n",
              "      <td>0</td>\n",
              "      <td>0</td>\n",
              "      <td>0</td>\n",
              "      <td>0</td>\n",
              "      <td>0</td>\n",
              "      <td>6.864280</td>\n",
              "      <td>1963.0</td>\n",
              "    </tr>\n",
              "    <tr>\n",
              "      <th>674</th>\n",
              "      <td>674</td>\n",
              "      <td>Nosferatu (Nosferatu, eine Symphonie des Graue...</td>\n",
              "      <td>01-Jan-1922</td>\n",
              "      <td>NaN</td>\n",
              "      <td>http://us.imdb.com/M/title-exact?Nosferatu,%20...</td>\n",
              "      <td>0</td>\n",
              "      <td>0</td>\n",
              "      <td>0</td>\n",
              "      <td>0</td>\n",
              "      <td>0</td>\n",
              "      <td>...</td>\n",
              "      <td>1</td>\n",
              "      <td>0</td>\n",
              "      <td>0</td>\n",
              "      <td>0</td>\n",
              "      <td>0</td>\n",
              "      <td>0</td>\n",
              "      <td>0</td>\n",
              "      <td>0</td>\n",
              "      <td>7.636474</td>\n",
              "      <td>1922.0</td>\n",
              "    </tr>\n",
              "  </tbody>\n",
              "</table>\n",
              "<p>5 rows × 26 columns</p>\n",
              "</div>"
            ],
            "text/plain": [
              "     item_id                                        movie_title release_date  \\\n",
              "435      435             American Werewolf in London, An (1981)  01-Jan-1981   \n",
              "431      431                                    Fantasia (1940)  01-Jan-1940   \n",
              "495      495                       It's a Wonderful Life (1946)  01-Jan-1946   \n",
              "442      442                                  Birds, The (1963)  01-Jan-1963   \n",
              "674      674  Nosferatu (Nosferatu, eine Symphonie des Graue...  01-Jan-1922   \n",
              "\n",
              "     video_release_date                                           IMDb URL  \\\n",
              "435                 NaN  http://us.imdb.com/M/title-exact?American%20We...   \n",
              "431                 NaN  http://us.imdb.com/M/title-exact?Fantasia%20(1...   \n",
              "495                 NaN  http://us.imdb.com/M/title-exact?It's%20a%20Wo...   \n",
              "442                 NaN  http://us.imdb.com/M/title-exact?Birds,%20The%...   \n",
              "674                 NaN  http://us.imdb.com/M/title-exact?Nosferatu,%20...   \n",
              "\n",
              "     unknown  Action  Adventure  Animation  Children      ...       Horror  \\\n",
              "435        0       0          0          0         0      ...            1   \n",
              "431        0       0          0          1         1      ...            0   \n",
              "495        0       0          0          0         0      ...            0   \n",
              "442        0       0          0          0         0      ...            1   \n",
              "674        0       0          0          0         0      ...            1   \n",
              "\n",
              "     Musical  Mystery  Romance  Sci-Fi  Thriller  War  Western     score  \\\n",
              "435        0        0        0       0         0    0        0  6.073152   \n",
              "431        1        0        0       0         0    0        0  6.151361   \n",
              "495        0        0        0       0         0    0        0  6.235801   \n",
              "442        0        0        0       0         0    0        0  6.864280   \n",
              "674        0        0        0       0         0    0        0  7.636474   \n",
              "\n",
              "     release_year  \n",
              "435        1981.0  \n",
              "431        1940.0  \n",
              "495        1946.0  \n",
              "442        1963.0  \n",
              "674        1922.0  \n",
              "\n",
              "[5 rows x 26 columns]"
            ]
          },
          "metadata": {
            "tags": []
          },
          "execution_count": 22
        }
      ]
    }
  ]
}